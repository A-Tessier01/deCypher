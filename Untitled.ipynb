{
 "cells": [
  {
   "cell_type": "code",
   "execution_count": 6,
   "id": "4822f7f2-d0fa-4f83-b1a5-59b314ac3896",
   "metadata": {},
   "outputs": [],
   "source": [
    "import cv2\n",
    "import pytesseract"
   ]
  },
  {
   "cell_type": "code",
   "execution_count": 4,
   "id": "f8e98cd7-f19f-4ac3-a329-22c5cf753fb3",
   "metadata": {},
   "outputs": [],
   "source": [
    "# Initialize the video capture object\n",
    "cap = cv2.VideoCapture(0)  # 0 is the index of the default webcam\n",
    "\n",
    "# Check if the webcam is opened correctly\n",
    "if not cap.isOpened():\n",
    "    raise Exception(\"Could not open video device\")\n",
    "\n",
    "# Set properties. Each property is specified by a number code and a value\n",
    "# For example to set the width and height:\n",
    "# cap.set(3, 640)  # 3 is the code for width\n",
    "# cap.set(4, 480)  # 4 is the code for height\n",
    "\n",
    "# Capture video frames in a loop\n",
    "try:\n",
    "    while True:\n",
    "        # Capture frame-by-frame\n",
    "        ret, frame = cap.read()\n",
    "\n",
    "        # if frame is read correctly ret is True\n",
    "        if not ret:\n",
    "            print(\"Can't receive frame (stream end?). Exiting ...\")\n",
    "            break\n",
    "\n",
    "        # Display the resulting frame\n",
    "        cv2.imshow('Webcam Feed', frame)\n",
    "\n",
    "        # Press 'q' to exit the loop\n",
    "        if cv2.waitKey(1) & 0xFF == ord('q'):\n",
    "            break\n",
    "finally:\n",
    "    # When everything done, release the capture\n",
    "    cap.release()\n",
    "    cv2.destroyAllWindows()"
   ]
  }
 ],
 "metadata": {
  "kernelspec": {
   "display_name": "Python 3 (ipykernel)",
   "language": "python",
   "name": "python3"
  },
  "language_info": {
   "codemirror_mode": {
    "name": "ipython",
    "version": 3
   },
   "file_extension": ".py",
   "mimetype": "text/x-python",
   "name": "python",
   "nbconvert_exporter": "python",
   "pygments_lexer": "ipython3",
   "version": "3.8.19"
  }
 },
 "nbformat": 4,
 "nbformat_minor": 5
}
